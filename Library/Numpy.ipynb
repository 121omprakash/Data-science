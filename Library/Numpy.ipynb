{
 "cells": [
  {
   "cell_type": "code",
   "execution_count": 252,
   "metadata": {},
   "outputs": [],
   "source": [
    "import numpy as np\n",
    "lst = [10,20,30,40]"
   ]
  },
  {
   "cell_type": "markdown",
   "metadata": {},
   "source": [
    "1. Converting a list into numpy Array"
   ]
  },
  {
   "cell_type": "code",
   "execution_count": 253,
   "metadata": {},
   "outputs": [
    {
     "name": "stdout",
     "output_type": "stream",
     "text": [
      "<class 'numpy.ndarray'>\n"
     ]
    }
   ],
   "source": [
    "np_array = np.array(lst)\n",
    "print(type(np_array))"
   ]
  },
  {
   "cell_type": "markdown",
   "metadata": {},
   "source": [
    "2.Arrange Function"
   ]
  },
  {
   "cell_type": "code",
   "execution_count": 254,
   "metadata": {},
   "outputs": [
    {
     "name": "stdout",
     "output_type": "stream",
     "text": [
      "[[1 2 3]\n",
      " [4 5 6]\n",
      " [7 8 9]]\n"
     ]
    }
   ],
   "source": [
    "#arr = np.arange(start,end,step up)\n",
    "arr = np.arange(1,10).reshape(3,3)\n",
    "print(arr)"
   ]
  },
  {
   "cell_type": "markdown",
   "metadata": {},
   "source": [
    "3. MutliDimension List"
   ]
  },
  {
   "cell_type": "code",
   "execution_count": 255,
   "metadata": {},
   "outputs": [
    {
     "name": "stdout",
     "output_type": "stream",
     "text": [
      "[[10 12 20]\n",
      " [15 20 30]]\n"
     ]
    }
   ],
   "source": [
    "arr = [[10,12,20],\n",
    "        [15,20,30]]\n",
    "arr = np.array(arr)\n",
    "print(arr)"
   ]
  },
  {
   "cell_type": "markdown",
   "metadata": {},
   "source": [
    "4. size  Function"
   ]
  },
  {
   "cell_type": "code",
   "execution_count": 256,
   "metadata": {},
   "outputs": [
    {
     "name": "stdout",
     "output_type": "stream",
     "text": [
      "The size of arr: 6\n",
      "The size of 1st row: 3\n"
     ]
    }
   ],
   "source": [
    "print('The size of arr: {}'.format(arr.size))\n",
    "print('The size of 1st row: {}'.format(arr[1].size))"
   ]
  },
  {
   "cell_type": "markdown",
   "metadata": {},
   "source": [
    "5.Shape Function"
   ]
  },
  {
   "cell_type": "code",
   "execution_count": 257,
   "metadata": {},
   "outputs": [
    {
     "name": "stdout",
     "output_type": "stream",
     "text": [
      "The shape of arr: (2, 3)\n"
     ]
    }
   ],
   "source": [
    "print('The shape of arr: {}'.format(arr.shape))"
   ]
  },
  {
   "cell_type": "markdown",
   "metadata": {},
   "source": [
    "6. Dtype Function"
   ]
  },
  {
   "cell_type": "code",
   "execution_count": 258,
   "metadata": {},
   "outputs": [
    {
     "name": "stdout",
     "output_type": "stream",
     "text": [
      "'The data type of array's element:int64\n"
     ]
    }
   ],
   "source": [
    "print(\"'The data type of array's element:{}\".format(arr.dtype))"
   ]
  },
  {
   "cell_type": "markdown",
   "metadata": {},
   "source": []
  },
  {
   "cell_type": "markdown",
   "metadata": {},
   "source": [
    "7. Ndim Function"
   ]
  },
  {
   "cell_type": "code",
   "execution_count": 259,
   "metadata": {},
   "outputs": [
    {
     "name": "stdout",
     "output_type": "stream",
     "text": [
      "The dimension of arr: 2\n"
     ]
    }
   ],
   "source": [
    "print('The dimension of arr: {}'.format(arr.ndim))"
   ]
  },
  {
   "cell_type": "markdown",
   "metadata": {},
   "source": [
    "8. Zeros Function"
   ]
  },
  {
   "cell_type": "code",
   "execution_count": 260,
   "metadata": {},
   "outputs": [
    {
     "name": "stdout",
     "output_type": "stream",
     "text": [
      "[[0. 0. 0.]\n",
      " [0. 0. 0.]\n",
      " [0. 0. 0.]\n",
      " [0. 0. 0.]]\n"
     ]
    }
   ],
   "source": [
    "arr_zero = np.zeros((4,3))\n",
    "print(arr_zero)"
   ]
  },
  {
   "cell_type": "markdown",
   "metadata": {},
   "source": [
    "9. Ones Function"
   ]
  },
  {
   "cell_type": "code",
   "execution_count": 261,
   "metadata": {},
   "outputs": [
    {
     "name": "stdout",
     "output_type": "stream",
     "text": [
      "[[1. 1. 1.]\n",
      " [1. 1. 1.]\n",
      " [1. 1. 1.]]\n"
     ]
    }
   ],
   "source": [
    "np_ones  = np.ones((3,3))\n",
    "print(np_ones)"
   ]
  },
  {
   "cell_type": "markdown",
   "metadata": {},
   "source": [
    "10. Eye Function : returns the elements in the form of matrix and diagonal is always 1. and apart from diagonal everything is zeo "
   ]
  },
  {
   "cell_type": "code",
   "execution_count": 262,
   "metadata": {},
   "outputs": [
    {
     "name": "stdout",
     "output_type": "stream",
     "text": [
      "[[1 0 0 0 0]\n",
      " [0 1 0 0 0]\n",
      " [0 0 1 0 0]\n",
      " [0 0 0 1 0]\n",
      " [0 0 0 0 1]]\n"
     ]
    }
   ],
   "source": [
    "arr_eye = np.eye(5,dtype=int)\n",
    "print(arr_eye)"
   ]
  },
  {
   "cell_type": "markdown",
   "metadata": {},
   "source": [
    "10.Empty Function"
   ]
  },
  {
   "cell_type": "code",
   "execution_count": 263,
   "metadata": {},
   "outputs": [
    {
     "name": "stdout",
     "output_type": "stream",
     "text": [
      "[[5.e-324 0.e+000 0.e+000 0.e+000 0.e+000]\n",
      " [0.e+000 5.e-324 0.e+000 0.e+000 0.e+000]\n",
      " [0.e+000 0.e+000 5.e-324 0.e+000 0.e+000]\n",
      " [0.e+000 0.e+000 0.e+000 5.e-324 0.e+000]\n",
      " [0.e+000 0.e+000 0.e+000 0.e+000 5.e-324]]\n"
     ]
    }
   ],
   "source": [
    "arr_empty = np.empty((5,5),dtype=float)\n",
    "print(arr_empty)"
   ]
  },
  {
   "cell_type": "markdown",
   "metadata": {},
   "source": [
    "11. Random Function"
   ]
  },
  {
   "cell_type": "code",
   "execution_count": 264,
   "metadata": {},
   "outputs": [
    {
     "name": "stdout",
     "output_type": "stream",
     "text": [
      "[[0.36165062 0.526111   0.42472996 0.81978073]\n",
      " [0.57128475 0.88111074 0.80060352 0.34992523]\n",
      " [0.77273869 0.89649666 0.78573034 0.28340737]]\n"
     ]
    }
   ],
   "source": [
    "arr_random = np.random.rand(3,4)\n",
    "print(arr_random)"
   ]
  },
  {
   "cell_type": "code",
   "execution_count": 265,
   "metadata": {},
   "outputs": [
    {
     "name": "stdout",
     "output_type": "stream",
     "text": [
      "[6 5 8 2 1 8 5 9 9 5 2 5 1 6 7]\n"
     ]
    }
   ],
   "source": [
    "# np.random.randin(start:end:no of element)\n",
    "arr_randint = np.random.randint(1,10,15)\n",
    "print(arr_randint)"
   ]
  },
  {
   "cell_type": "code",
   "execution_count": 266,
   "metadata": {},
   "outputs": [
    {
     "name": "stdout",
     "output_type": "stream",
     "text": [
      "[-1.87120247  0.85779193 -0.93330128  0.26973425 -0.91206319 -0.87171282\n",
      " -0.94458939 -0.84984818  0.67813101 -2.07581204]\n"
     ]
    }
   ],
   "source": [
    "print(np.random.randn(10))"
   ]
  },
  {
   "cell_type": "markdown",
   "metadata": {},
   "source": [
    "13. Reshape function"
   ]
  },
  {
   "cell_type": "code",
   "execution_count": 267,
   "metadata": {},
   "outputs": [
    {
     "name": "stdout",
     "output_type": "stream",
     "text": [
      "[[10 11 12]\n",
      " [13 14 15]\n",
      " [16 17 18]]\n"
     ]
    }
   ],
   "source": [
    "arr = np.arange(10,19).reshape(3,3)\n",
    "print(arr)"
   ]
  },
  {
   "cell_type": "markdown",
   "metadata": {},
   "source": [
    "14. Linspace Function"
   ]
  },
  {
   "cell_type": "code",
   "execution_count": 268,
   "metadata": {},
   "outputs": [
    {
     "name": "stdout",
     "output_type": "stream",
     "text": [
      "[[10 10 10 11 11 12 12 12 13 13]\n",
      " [14 14 14 15 15 16 16 16 17 17]\n",
      " [18 18 18 19 19 20 20 20 21 21]\n",
      " [22 22 22 23 23 24 24 24 25 25]\n",
      " [26 26 26 27 27 28 28 28 29 29]\n",
      " [30 30 31 31 31 32 32 33 33 33]\n",
      " [34 34 35 35 35 36 36 37 37 37]\n",
      " [38 38 39 39 39 40 40 41 41 41]\n",
      " [42 42 43 43 43 44 44 45 45 45]\n",
      " [46 46 47 47 47 48 48 49 49 50]]\n"
     ]
    }
   ],
   "source": [
    "# np.linspace(start,end,no_of elements,dtype) it generate numbers in sequence of qualy distributed\n",
    "arr = np.linspace(10,50,100,dtype=int).reshape(10,10)\n",
    "print(arr)"
   ]
  },
  {
   "cell_type": "markdown",
   "metadata": {},
   "source": []
  },
  {
   "cell_type": "markdown",
   "metadata": {},
   "source": [
    "14. Flatten Function"
   ]
  },
  {
   "cell_type": "code",
   "execution_count": 269,
   "metadata": {},
   "outputs": [
    {
     "name": "stdout",
     "output_type": "stream",
     "text": [
      "[10 10 10 11 11 12 12 12 13 13 14 14 14 15 15 16 16 16 17 17 18 18 18 19\n",
      " 19 20 20 20 21 21 22 22 22 23 23 24 24 24 25 25 26 26 26 27 27 28 28 28\n",
      " 29 29 30 30 31 31 31 32 32 33 33 33 34 34 35 35 35 36 36 37 37 37 38 38\n",
      " 39 39 39 40 40 41 41 41 42 42 43 43 43 44 44 45 45 45 46 46 47 47 47 48\n",
      " 48 49 49 50]\n"
     ]
    }
   ],
   "source": [
    "arr_flatten = arr.flatten()\n",
    "print(arr_flatten)"
   ]
  },
  {
   "cell_type": "markdown",
   "metadata": {},
   "source": []
  },
  {
   "cell_type": "markdown",
   "metadata": {},
   "source": [
    "15. Logspace Function"
   ]
  },
  {
   "cell_type": "code",
   "execution_count": 270,
   "metadata": {},
   "outputs": [
    {
     "name": "stdout",
     "output_type": "stream",
     "text": [
      "[ 4.          4.66611616  5.44316     6.34960421  7.4069977   8.64047791\n",
      " 10.0793684  11.75787594 13.71590373 16.        ]\n"
     ]
    }
   ],
   "source": [
    "# it is used to generate log value\n",
    "arr = np.logspace(2,4,10,base = 2)\n",
    "print(arr)"
   ]
  },
  {
   "cell_type": "markdown",
   "metadata": {},
   "source": []
  },
  {
   "cell_type": "markdown",
   "metadata": {},
   "source": [
    "16 Copy Function"
   ]
  },
  {
   "cell_type": "code",
   "execution_count": 271,
   "metadata": {},
   "outputs": [
    {
     "name": "stdout",
     "output_type": "stream",
     "text": [
      "[ 4.          4.66611616  5.44316     6.34960421  7.4069977   8.64047791\n",
      " 10.0793684  11.75787594 13.71590373 16.        ]\n",
      "------Method_2------\n",
      "[ 4.          4.66611616  5.44316     6.34960421  7.4069977   8.64047791\n",
      " 10.0793684  11.75787594 13.71590373 16.        ]\n"
     ]
    }
   ],
   "source": [
    "arr_cp = arr.copy()\n",
    "print(arr_cp)\n",
    "print('Method_2'.center(20,'-'))\n",
    "arr_cp = arr\n",
    "print(arr_cp)"
   ]
  },
  {
   "cell_type": "markdown",
   "metadata": {},
   "source": [
    "17. arr.Max() ,arr.min() ,arr.sum()"
   ]
  },
  {
   "cell_type": "code",
   "execution_count": 272,
   "metadata": {},
   "outputs": [
    {
     "name": "stdout",
     "output_type": "stream",
     "text": [
      "Maximum of arr:16.0\n",
      "Minimum of arr:4.0\n",
      "Sum of arr:88.05950403932448\n"
     ]
    }
   ],
   "source": [
    "print('Maximum of arr:{}'.format(arr.max()))\n",
    "print('Minimum of arr:{}'.format(arr.min()))\n",
    "print('Sum of arr:{}'.format(arr.sum()))"
   ]
  },
  {
   "cell_type": "markdown",
   "metadata": {},
   "source": [
    "18. Seed Function"
   ]
  },
  {
   "cell_type": "code",
   "execution_count": 273,
   "metadata": {},
   "outputs": [
    {
     "name": "stdout",
     "output_type": "stream",
     "text": [
      "[[4 7]\n",
      " [7 1]\n",
      " [9 5]]\n"
     ]
    }
   ],
   "source": [
    "# it generates and random number but it can be detected\n",
    "arr = np.random.seed(5)\n",
    "arr = np.random.randint(1,10,6).reshape(3,2)\n",
    "print(arr)"
   ]
  },
  {
   "cell_type": "markdown",
   "metadata": {},
   "source": [
    "19. Sorting Function"
   ]
  },
  {
   "cell_type": "code",
   "execution_count": 274,
   "metadata": {},
   "outputs": [
    {
     "name": "stdout",
     "output_type": "stream",
     "text": [
      "[[10 20 30 40]\n",
      " [45 50 89 96]\n",
      " [16 45 46 89]]\n",
      "[[10 20 30 40]\n",
      " [16 45 45 46]\n",
      " [50 96 89 89]]\n",
      "[[10 20 30 40]\n",
      " [45 50 89 96]\n",
      " [16 45 46 89]]\n",
      "[[10 20 30 40]\n",
      " [45 50 89 96]\n",
      " [16 45 46 89]]\n"
     ]
    }
   ],
   "source": [
    "arr = [[10,20,30,40],\n",
    "       [50,96,45,89],\n",
    "       [16,45,89,46]]\n",
    "print(np.sort(arr,axis=1)) # sorting in row\n",
    "print(np.sort(arr,axis=0)) #sorting in coulumn\n",
    "print(np.sort(arr,axis=1,kind='mergesort'))\n",
    "print(np.sort(arr,axis = 1,kind='heapsort'))"
   ]
  },
  {
   "cell_type": "markdown",
   "metadata": {},
   "source": []
  },
  {
   "cell_type": "markdown",
   "metadata": {},
   "source": [
    "20. Mathematical Operation"
   ]
  },
  {
   "cell_type": "markdown",
   "metadata": {},
   "source": [
    "a. Addition"
   ]
  },
  {
   "cell_type": "code",
   "execution_count": 275,
   "metadata": {},
   "outputs": [
    {
     "name": "stdout",
     "output_type": "stream",
     "text": [
      "[[24 26 28]\n",
      " [30 32 34]\n",
      " [36 38 40]\n",
      " [42 44 46]\n",
      " [48 50 52]\n",
      " [54 56 58]]\n",
      "---------------------Method_2---------------------\n",
      "[[36 37 38]\n",
      " [39 40 41]\n",
      " [42 43 44]\n",
      " [45 46 47]\n",
      " [48 49 50]\n",
      " [51 52 53]]\n"
     ]
    }
   ],
   "source": [
    "arr1 = np.arange(21,39).reshape(6,3)\n",
    "arr2 = np.arange(3,21).reshape(6,3)\n",
    "print(arr1+arr2)\n",
    "print('Method_2'.center(50,'-'))\n",
    "print(arr1+15)"
   ]
  },
  {
   "cell_type": "markdown",
   "metadata": {},
   "source": [
    "b. Subtraction"
   ]
  },
  {
   "cell_type": "code",
   "execution_count": 276,
   "metadata": {},
   "outputs": [
    {
     "name": "stdout",
     "output_type": "stream",
     "text": [
      "[[18 18 18]\n",
      " [18 18 18]\n",
      " [18 18 18]\n",
      " [18 18 18]\n",
      " [18 18 18]\n",
      " [18 18 18]]\n",
      "[[ 6  7  8]\n",
      " [ 9 10 11]\n",
      " [12 13 14]\n",
      " [15 16 17]\n",
      " [18 19 20]\n",
      " [21 22 23]]\n"
     ]
    }
   ],
   "source": [
    "print(arr1-arr2)\n",
    "print(arr1-15)"
   ]
  },
  {
   "cell_type": "markdown",
   "metadata": {},
   "source": [
    "c. Multiplication"
   ]
  },
  {
   "cell_type": "code",
   "execution_count": 277,
   "metadata": {},
   "outputs": [
    {
     "name": "stdout",
     "output_type": "stream",
     "text": [
      "[[ 63  88 115]\n",
      " [144 175 208]\n",
      " [243 280 319]\n",
      " [360 403 448]\n",
      " [495 544 595]\n",
      " [648 703 760]]\n",
      "[[210 220 230]\n",
      " [240 250 260]\n",
      " [270 280 290]\n",
      " [300 310 320]\n",
      " [330 340 350]\n",
      " [360 370 380]]\n"
     ]
    }
   ],
   "source": [
    "print(arr1*arr2)\n",
    "print(arr1*10)"
   ]
  },
  {
   "cell_type": "markdown",
   "metadata": {},
   "source": [
    "d. Division"
   ]
  },
  {
   "cell_type": "code",
   "execution_count": 278,
   "metadata": {},
   "outputs": [
    {
     "name": "stdout",
     "output_type": "stream",
     "text": [
      "[[10.5 11.  11.5]\n",
      " [12.  12.5 13. ]\n",
      " [13.5 14.  14.5]\n",
      " [15.  15.5 16. ]\n",
      " [16.5 17.  17.5]\n",
      " [18.  18.5 19. ]]\n",
      "[[ 3.  4.  5.]\n",
      " [ 6.  7.  8.]\n",
      " [ 9. 10. 11.]\n",
      " [12. 13. 14.]\n",
      " [15. 16. 17.]\n",
      " [18. 19. 20.]]\n"
     ]
    }
   ],
   "source": [
    "print(arr1/2)\n",
    "print((arr1*arr2)/arr1)"
   ]
  },
  {
   "cell_type": "markdown",
   "metadata": {},
   "source": [
    "e. Remider(%)"
   ]
  },
  {
   "cell_type": "code",
   "execution_count": 279,
   "metadata": {},
   "outputs": [
    {
     "name": "stdout",
     "output_type": "stream",
     "text": [
      "[[1 0 1]\n",
      " [0 1 0]\n",
      " [1 0 1]\n",
      " [0 1 0]\n",
      " [1 0 1]\n",
      " [0 1 0]]\n"
     ]
    }
   ],
   "source": [
    "print(arr1%2)"
   ]
  },
  {
   "cell_type": "markdown",
   "metadata": {},
   "source": [
    "f. Matrix Multiplication"
   ]
  },
  {
   "cell_type": "code",
   "execution_count": 280,
   "metadata": {},
   "outputs": [
    {
     "name": "stdout",
     "output_type": "stream",
     "text": [
      "[[1425 1458 1491]\n",
      " [1812 1854 1896]\n",
      " [2199 2250 2301]]\n"
     ]
    }
   ],
   "source": [
    "# dot multiplcication\n",
    "arr1 = np.arange(10,19).reshape(3,3)\n",
    "arr2 = np.arange(40,49).reshape(3,3)\n",
    "print(arr1.dot(arr2))"
   ]
  },
  {
   "cell_type": "markdown",
   "metadata": {},
   "source": [
    "g. Power"
   ]
  },
  {
   "cell_type": "code",
   "execution_count": 281,
   "metadata": {},
   "outputs": [
    {
     "name": "stdout",
     "output_type": "stream",
     "text": [
      "[[100 121 144]\n",
      " [169 196 225]\n",
      " [256 289 324]]\n"
     ]
    }
   ],
   "source": [
    "#arr**exponene\n",
    "print(arr1**2)"
   ]
  },
  {
   "cell_type": "markdown",
   "metadata": {},
   "source": [
    "21. Percentile Function"
   ]
  },
  {
   "cell_type": "code",
   "execution_count": 282,
   "metadata": {},
   "outputs": [
    {
     "name": "stdout",
     "output_type": "stream",
     "text": [
      "[9 4 9 9 1 6 4 6 8 7]\n",
      "[1 4 4 6 6 7 8 9 9 9]\n",
      "9.0\n"
     ]
    }
   ],
   "source": [
    "np.random.seed(3)\n",
    "arr = np.random.randint(1,10,10)\n",
    "print(arr)\n",
    "print(np.sort(arr,kind = 'mergesort'))\n",
    "print(np.percentile(arr,90))"
   ]
  },
  {
   "cell_type": "markdown",
   "metadata": {},
   "source": [
    "22. Mean , Variance and standard deviation"
   ]
  },
  {
   "cell_type": "code",
   "execution_count": 283,
   "metadata": {},
   "outputs": [
    {
     "name": "stdout",
     "output_type": "stream",
     "text": [
      "[9 4 9 9 1 6 4 6 8 7]\n",
      "Mean of arr: 6.3\n",
      "Variance of arr: 6.410000000000001\n",
      "Standard Deviation: 2.5317977802344327\n"
     ]
    }
   ],
   "source": [
    "print(arr)\n",
    "print('Mean of arr: {}'.format(arr.mean()))\n",
    "print('Variance of arr: {}'.format(arr.var()))\n",
    "print('Standard Deviation: {}'.format(arr.std()))"
   ]
  },
  {
   "cell_type": "markdown",
   "metadata": {},
   "source": [
    "23. Filtering an array"
   ]
  },
  {
   "cell_type": "code",
   "execution_count": 284,
   "metadata": {},
   "outputs": [
    {
     "name": "stdout",
     "output_type": "stream",
     "text": [
      "[50  4 50 50  1 50  4 50 50 50]\n"
     ]
    }
   ],
   "source": [
    "#to replace gretr than 10 in arr\n",
    "arr[arr>5] =50\n",
    "print(arr)"
   ]
  },
  {
   "cell_type": "code",
   "execution_count": 285,
   "metadata": {},
   "outputs": [
    {
     "name": "stdout",
     "output_type": "stream",
     "text": [
      "[50  4 50 50  1 50  4 50 50 50]\n",
      "[50 50 50 50 50 50 50]\n"
     ]
    }
   ],
   "source": [
    "print(arr)\n",
    "arr_fil = arr[arr>5]\n",
    "print(arr_fil)"
   ]
  },
  {
   "cell_type": "markdown",
   "metadata": {},
   "source": [
    "24. Transposing an Array : converting row into coulumn and coulumn into row"
   ]
  },
  {
   "cell_type": "code",
   "execution_count": 286,
   "metadata": {},
   "outputs": [
    {
     "name": "stdout",
     "output_type": "stream",
     "text": [
      "[[1 2 3]\n",
      " [4 5 6]\n",
      " [7 8 9]]\n",
      "Transpose of Arr: \n",
      "[[1 4 7]\n",
      " [2 5 8]\n",
      " [3 6 9]]\n"
     ]
    }
   ],
   "source": [
    "arr = np.arange(1,10).reshape(3,3)\n",
    "print(arr)\n",
    "print('Transpose of Arr: \\n{}'.format(arr.T))"
   ]
  },
  {
   "cell_type": "markdown",
   "metadata": {},
   "source": [
    "25. Where Function"
   ]
  },
  {
   "cell_type": "code",
   "execution_count": 287,
   "metadata": {},
   "outputs": [
    {
     "name": "stdout",
     "output_type": "stream",
     "text": [
      "[[50 50 50]\n",
      " [50 50 15]\n",
      " [50 50 50]]\n",
      "---------------------Method_2---------------------\n",
      "[['Even' 'Even' 'Even']\n",
      " ['Even' 'Even' '15']\n",
      " ['Even' 'Even' 'Even']]\n"
     ]
    }
   ],
   "source": [
    "arr = np.random.randint(1,50,9).reshape(3,3)\n",
    "arr[arr>15] = 50\n",
    "print(arr)\n",
    "print('Method_2'.center(50,'-'))\n",
    "# np.where(condition,relace_value,arr)\n",
    "print(np.where(arr%2==0,'Even',arr))"
   ]
  },
  {
   "cell_type": "markdown",
   "metadata": {},
   "source": [
    "26. Merging Arrays"
   ]
  },
  {
   "cell_type": "markdown",
   "metadata": {},
   "source": [
    "a. concatenate"
   ]
  },
  {
   "cell_type": "code",
   "execution_count": 288,
   "metadata": {},
   "outputs": [
    {
     "name": "stdout",
     "output_type": "stream",
     "text": [
      "[[10 11 12]\n",
      " [13 14 15]\n",
      " [16 17 18]]\n",
      "[[40 41 42]\n",
      " [43 44 45]\n",
      " [46 47 48]]\n",
      "After concatenating coulumn wise:\n",
      "\n",
      "[[10 11 12]\n",
      " [13 14 15]\n",
      " [16 17 18]\n",
      " [40 41 42]\n",
      " [43 44 45]\n",
      " [46 47 48]]\n",
      "After Concatenating row wise:[[10 11 12 40 41 42]\n",
      " [13 14 15 43 44 45]\n",
      " [16 17 18 46 47 48]]\n"
     ]
    }
   ],
   "source": [
    "print(arr1)\n",
    "print(arr2)\n",
    "# print('Concatenated Array: {}'.format(np.concatenate(arr1,arr2)))\n",
    "print('After concatenating coulumn wise:\\n')\n",
    "print(np.concatenate((arr1,arr2),axis = 0))\n",
    "\n",
    "print('After Concatenating row wise:{}'.format(np.concatenate((arr1,arr2),axis = 1)))"
   ]
  },
  {
   "cell_type": "markdown",
   "metadata": {},
   "source": [
    "b. vstack and hstack"
   ]
  },
  {
   "cell_type": "code",
   "execution_count": 289,
   "metadata": {},
   "outputs": [
    {
     "name": "stdout",
     "output_type": "stream",
     "text": [
      "[[10 11 12]\n",
      " [13 14 15]\n",
      " [16 17 18]\n",
      " [40 41 42]\n",
      " [43 44 45]\n",
      " [46 47 48]]\n",
      "[[10 11 12 40 41 42]\n",
      " [13 14 15 43 44 45]\n",
      " [16 17 18 46 47 48]]\n"
     ]
    }
   ],
   "source": [
    "print(np.vstack((arr1,arr2)))\n",
    "print(np.hstack((arr1,arr2)))"
   ]
  },
  {
   "cell_type": "markdown",
   "metadata": {},
   "source": [
    "27. Splitting Array"
   ]
  },
  {
   "cell_type": "code",
   "execution_count": 290,
   "metadata": {},
   "outputs": [
    {
     "name": "stdout",
     "output_type": "stream",
     "text": [
      "[[10 11 12]\n",
      " [13 14 15]\n",
      " [16 17 18]]\n",
      "[array([[10, 11, 12]]), array([[13, 14, 15]]), array([[16, 17, 18]])]\n",
      "Horizantialy:[array([[50],\n",
      "       [50],\n",
      "       [50]]), array([[50],\n",
      "       [50],\n",
      "       [50]]), array([[50],\n",
      "       [15],\n",
      "       [50]])]\n"
     ]
    }
   ],
   "source": [
    "print(arr1)\n",
    "print(np.vsplit(arr1,3))\n",
    "print('Horizantialy:{}'.format(np.hsplit(arr,3)))"
   ]
  },
  {
   "cell_type": "markdown",
   "metadata": {},
   "source": [
    "28. Converting images into numpy array"
   ]
  },
  {
   "cell_type": "code",
   "execution_count": 291,
   "metadata": {},
   "outputs": [],
   "source": [
    "from matplotlib.image import imread"
   ]
  },
  {
   "cell_type": "code",
   "execution_count": 292,
   "metadata": {},
   "outputs": [
    {
     "name": "stdout",
     "output_type": "stream",
     "text": [
      "(1024, 1024, 3)\n"
     ]
    }
   ],
   "source": [
    "img = imread('img.jpeg')\n",
    "print(img.shape)"
   ]
  },
  {
   "cell_type": "code",
   "execution_count": null,
   "metadata": {},
   "outputs": [],
   "source": []
  }
 ],
 "metadata": {
  "kernelspec": {
   "display_name": "Python 3 (ipykernel)",
   "language": "python",
   "name": "python3"
  },
  "language_info": {
   "codemirror_mode": {
    "name": "ipython",
    "version": 3
   },
   "file_extension": ".py",
   "mimetype": "text/x-python",
   "name": "python",
   "nbconvert_exporter": "python",
   "pygments_lexer": "ipython3",
   "version": "3.10.12"
  },
  "orig_nbformat": 4
 },
 "nbformat": 4,
 "nbformat_minor": 2
}
