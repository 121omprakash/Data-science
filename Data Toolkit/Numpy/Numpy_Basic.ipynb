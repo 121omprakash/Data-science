{
  "nbformat": 4,
  "nbformat_minor": 0,
  "metadata": {
    "colab": {
      "provenance": []
    },
    "kernelspec": {
      "name": "python3",
      "display_name": "Python 3"
    },
    "language_info": {
      "name": "python"
    }
  },
  "cells": [
    {
      "cell_type": "code",
      "execution_count": 1,
      "metadata": {
        "colab": {
          "base_uri": "https://localhost:8080/"
        },
        "id": "ljtqihdQOkkb",
        "outputId": "4295cc58-90c8-470a-8dfe-2ef04bcd8fc6"
      },
      "outputs": [
        {
          "output_type": "stream",
          "name": "stdout",
          "text": [
            "Requirement already satisfied: numpy in /usr/local/lib/python3.10/dist-packages (1.23.5)\n"
          ]
        }
      ],
      "source": [
        "!pip install numpy"
      ]
    },
    {
      "cell_type": "code",
      "source": [
        "import numpy as np"
      ],
      "metadata": {
        "id": "mFje5yd4PDOa"
      },
      "execution_count": 4,
      "outputs": []
    },
    {
      "cell_type": "code",
      "source": [
        "lst = [1,5,9,6,10]\n"
      ],
      "metadata": {
        "id": "2LcUZaWtTRHJ"
      },
      "execution_count": 2,
      "outputs": []
    },
    {
      "cell_type": "code",
      "source": [
        "arra = np.array(lst)\n",
        "print(\"Numpy Array: \\n{}\".format(arra))"
      ],
      "metadata": {
        "colab": {
          "base_uri": "https://localhost:8080/"
        },
        "id": "7AvSqLdKVnB7",
        "outputId": "09c57c53-a6e2-4b1c-e9f5-29fdba8d8edd"
      },
      "execution_count": 20,
      "outputs": [
        {
          "output_type": "stream",
          "name": "stdout",
          "text": [
            "Numpy Array: \n",
            "[ 1  5  9  6 10]\n"
          ]
        }
      ]
    },
    {
      "cell_type": "code",
      "source": [],
      "metadata": {
        "colab": {
          "base_uri": "https://localhost:8080/"
        },
        "id": "8JtwpuxdVvJJ",
        "outputId": "952061e4-00f9-4158-9fac-b53b48be03d0"
      },
      "execution_count": 6,
      "outputs": [
        {
          "output_type": "stream",
          "name": "stdout",
          "text": [
            "[ 1  5  9  6 10]\n"
          ]
        }
      ]
    },
    {
      "cell_type": "code",
      "source": [
        "print(\"Datatype of array's element: {}\".format(arra.dtype))"
      ],
      "metadata": {
        "colab": {
          "base_uri": "https://localhost:8080/"
        },
        "id": "PkSQDh3BV1MZ",
        "outputId": "20f44a07-8897-423e-979d-c64b21bbd9e3"
      },
      "execution_count": 7,
      "outputs": [
        {
          "output_type": "stream",
          "name": "stdout",
          "text": [
            "int64\n"
          ]
        }
      ]
    },
    {
      "cell_type": "code",
      "source": [
        "print(\"Type of array: {}\".format(type(arra)))"
      ],
      "metadata": {
        "colab": {
          "base_uri": "https://localhost:8080/"
        },
        "id": "5SRqnGa9V4NS",
        "outputId": "47ddb4e8-311d-4009-d68e-082bfe10e09e"
      },
      "execution_count": 8,
      "outputs": [
        {
          "output_type": "stream",
          "name": "stdout",
          "text": [
            "<class 'numpy.ndarray'>\n"
          ]
        }
      ]
    },
    {
      "cell_type": "code",
      "source": [
        "print(\"Dimension of array: {}\".format(arra.ndim))"
      ],
      "metadata": {
        "colab": {
          "base_uri": "https://localhost:8080/"
        },
        "id": "00IVW-aOV6_R",
        "outputId": "4e9cde5a-19ac-440a-c9dd-836dc4475b6e"
      },
      "execution_count": 12,
      "outputs": [
        {
          "output_type": "stream",
          "name": "stdout",
          "text": [
            "1\n"
          ]
        }
      ]
    },
    {
      "cell_type": "code",
      "source": [
        "print(\"Shape of array: {}\".format(arra.shape))"
      ],
      "metadata": {
        "colab": {
          "base_uri": "https://localhost:8080/"
        },
        "id": "1tMCzJMyWBQ7",
        "outputId": "30b7b216-88a2-4fa1-c480-caa611d2aa04"
      },
      "execution_count": 14,
      "outputs": [
        {
          "output_type": "stream",
          "name": "stdout",
          "text": [
            "(5,)\n"
          ]
        }
      ]
    },
    {
      "cell_type": "code",
      "source": [
        "print(\"Size of array: {}\".format(arra.size))"
      ],
      "metadata": {
        "colab": {
          "base_uri": "https://localhost:8080/"
        },
        "id": "S7R1AuxAWSM7",
        "outputId": "4c33fb9a-d857-41f2-c0b0-6fcc76ac6114"
      },
      "execution_count": 15,
      "outputs": [
        {
          "output_type": "stream",
          "name": "stdout",
          "text": [
            "5\n"
          ]
        }
      ]
    },
    {
      "cell_type": "code",
      "source": [
        "ones =np.ones((3,5),dtype = int)\n",
        "print(\"Ones Array: \\n{}\".format(ones))\n",
        "print(\"\\nDimesion of array: {}\".format((ones.ndim)))\n",
        "print(\"\\nShape of array: {}\".format((ones.shape)))\n",
        "print(\"\\nDatatype of array's Element: {}\".format((ones.dtype)))\n",
        "print(\"\\nTypes of array: {}\".format(type(ones)))\n",
        "print(\"\\nElements no in Array: {}\".format((ones.size)))"
      ],
      "metadata": {
        "colab": {
          "base_uri": "https://localhost:8080/"
        },
        "id": "j3sjs5w1WZbT",
        "outputId": "ad003b33-ade6-477f-f2ab-215e5ffbc564"
      },
      "execution_count": 24,
      "outputs": [
        {
          "output_type": "stream",
          "name": "stdout",
          "text": [
            "Ones Array: \n",
            "[[1 1 1 1 1]\n",
            " [1 1 1 1 1]\n",
            " [1 1 1 1 1]]\n",
            "\n",
            "Dimesion of array: 2\n",
            "\n",
            "Shape of array: (3, 5)\n",
            "\n",
            "Datatype of array's Element: int64\n",
            "\n",
            "Types of array: <class 'numpy.ndarray'>\n",
            "\n",
            "Elements no in Array: 15\n"
          ]
        }
      ]
    },
    {
      "cell_type": "code",
      "source": [
        "ones = np.zeros((6,7),dtype = float)\n",
        "print(\"Ones Array: \\n{}\".format(ones))\n",
        "print(\"\\nDimesion of array: {}\".format((ones.ndim)))\n",
        "print(\"\\nShape of array: {}\".format((ones.shape)))\n",
        "print(\"\\nDatatype of array's Element: {}\".format((ones.dtype)))\n",
        "print(\"\\nTypes of array: {}\".format(type(ones)))\n",
        "print(\"\\nElements no in Array: {}\".format((ones.size)))"
      ],
      "metadata": {
        "colab": {
          "base_uri": "https://localhost:8080/"
        },
        "id": "k6hLpW2sWltr",
        "outputId": "10bd377c-9a61-4c6b-913a-c3214d2d7c41"
      },
      "execution_count": 25,
      "outputs": [
        {
          "output_type": "stream",
          "name": "stdout",
          "text": [
            "Ones Array: \n",
            "[[0. 0. 0. 0. 0. 0. 0.]\n",
            " [0. 0. 0. 0. 0. 0. 0.]\n",
            " [0. 0. 0. 0. 0. 0. 0.]\n",
            " [0. 0. 0. 0. 0. 0. 0.]\n",
            " [0. 0. 0. 0. 0. 0. 0.]\n",
            " [0. 0. 0. 0. 0. 0. 0.]]\n",
            "\n",
            "Dimesion of array: 2\n",
            "\n",
            "Shape of array: (6, 7)\n",
            "\n",
            "Datatype of array's Element: float64\n",
            "\n",
            "Types of array: <class 'numpy.ndarray'>\n",
            "\n",
            "Elements no in Array: 42\n"
          ]
        }
      ]
    },
    {
      "cell_type": "code",
      "source": [],
      "metadata": {
        "id": "TrMPTuesXOnl"
      },
      "execution_count": null,
      "outputs": []
    }
  ]
}