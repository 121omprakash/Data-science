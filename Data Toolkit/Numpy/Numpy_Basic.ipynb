{
  "cells": [
    {
      "cell_type": "code",
      "execution_count": 1,
      "metadata": {
        "colab": {
          "base_uri": "https://localhost:8080/"
        },
        "id": "ljtqihdQOkkb",
        "outputId": "4295cc58-90c8-470a-8dfe-2ef04bcd8fc6"
      },
      "outputs": [
        {
          "name": "stdout",
          "output_type": "stream",
          "text": [
            "Requirement already satisfied: numpy in /usr/local/lib/python3.10/dist-packages (1.23.5)\n"
          ]
        }
      ],
      "source": [
        "!pip install numpy"
      ]
    },
    {
      "cell_type": "code",
      "execution_count": 4,
      "metadata": {
        "id": "mFje5yd4PDOa"
      },
      "outputs": [],
      "source": [
        "import numpy as np"
      ]
    },
    {
      "cell_type": "code",
      "execution_count": 2,
      "metadata": {
        "id": "2LcUZaWtTRHJ"
      },
      "outputs": [],
      "source": [
        "lst = [1,5,9,6,10]\n"
      ]
    },
    {
      "cell_type": "code",
      "execution_count": 20,
      "metadata": {
        "colab": {
          "base_uri": "https://localhost:8080/"
        },
        "id": "7AvSqLdKVnB7",
        "outputId": "09c57c53-a6e2-4b1c-e9f5-29fdba8d8edd"
      },
      "outputs": [
        {
          "name": "stdout",
          "output_type": "stream",
          "text": [
            "Numpy Array: \n",
            "[ 1  5  9  6 10]\n"
          ]
        }
      ],
      "source": [
        "arra = np.array(lst)\n",
        "print(\"Numpy Array: \\n{}\".format(arra))"
      ]
    },
    {
      "cell_type": "code",
      "execution_count": 6,
      "metadata": {
        "colab": {
          "base_uri": "https://localhost:8080/"
        },
        "id": "8JtwpuxdVvJJ",
        "outputId": "952061e4-00f9-4158-9fac-b53b48be03d0"
      },
      "outputs": [
        {
          "name": "stdout",
          "output_type": "stream",
          "text": [
            "[ 1  5  9  6 10]\n"
          ]
        }
      ],
      "source": []
    },
    {
      "cell_type": "code",
      "execution_count": 7,
      "metadata": {
        "colab": {
          "base_uri": "https://localhost:8080/"
        },
        "id": "PkSQDh3BV1MZ",
        "outputId": "20f44a07-8897-423e-979d-c64b21bbd9e3"
      },
      "outputs": [
        {
          "name": "stdout",
          "output_type": "stream",
          "text": [
            "int64\n"
          ]
        }
      ],
      "source": [
        "print(\"Datatype of array's element: {}\".format(arra.dtype))"
      ]
    },
    {
      "cell_type": "code",
      "execution_count": 8,
      "metadata": {
        "colab": {
          "base_uri": "https://localhost:8080/"
        },
        "id": "5SRqnGa9V4NS",
        "outputId": "47ddb4e8-311d-4009-d68e-082bfe10e09e"
      },
      "outputs": [
        {
          "name": "stdout",
          "output_type": "stream",
          "text": [
            "<class 'numpy.ndarray'>\n"
          ]
        }
      ],
      "source": [
        "print(\"Type of array: {}\".format(type(arra)))"
      ]
    },
    {
      "cell_type": "code",
      "execution_count": 12,
      "metadata": {
        "colab": {
          "base_uri": "https://localhost:8080/"
        },
        "id": "00IVW-aOV6_R",
        "outputId": "4e9cde5a-19ac-440a-c9dd-836dc4475b6e"
      },
      "outputs": [
        {
          "name": "stdout",
          "output_type": "stream",
          "text": [
            "1\n"
          ]
        }
      ],
      "source": [
        "print(\"Dimension of array: {}\".format(arra.ndim))"
      ]
    },
    {
      "cell_type": "code",
      "execution_count": 14,
      "metadata": {
        "colab": {
          "base_uri": "https://localhost:8080/"
        },
        "id": "1tMCzJMyWBQ7",
        "outputId": "30b7b216-88a2-4fa1-c480-caa611d2aa04"
      },
      "outputs": [
        {
          "name": "stdout",
          "output_type": "stream",
          "text": [
            "(5,)\n"
          ]
        }
      ],
      "source": [
        "print(\"Shape of array: {}\".format(arra.shape))"
      ]
    },
    {
      "cell_type": "code",
      "execution_count": 15,
      "metadata": {
        "colab": {
          "base_uri": "https://localhost:8080/"
        },
        "id": "S7R1AuxAWSM7",
        "outputId": "4c33fb9a-d857-41f2-c0b0-6fcc76ac6114"
      },
      "outputs": [
        {
          "name": "stdout",
          "output_type": "stream",
          "text": [
            "5\n"
          ]
        }
      ],
      "source": [
        "print(\"Size of array: {}\".format(arra.size))"
      ]
    },
    {
      "cell_type": "code",
      "execution_count": 24,
      "metadata": {
        "colab": {
          "base_uri": "https://localhost:8080/"
        },
        "id": "j3sjs5w1WZbT",
        "outputId": "ad003b33-ade6-477f-f2ab-215e5ffbc564"
      },
      "outputs": [
        {
          "name": "stdout",
          "output_type": "stream",
          "text": [
            "Ones Array: \n",
            "[[1 1 1 1 1]\n",
            " [1 1 1 1 1]\n",
            " [1 1 1 1 1]]\n",
            "\n",
            "Dimesion of array: 2\n",
            "\n",
            "Shape of array: (3, 5)\n",
            "\n",
            "Datatype of array's Element: int64\n",
            "\n",
            "Types of array: <class 'numpy.ndarray'>\n",
            "\n",
            "Elements no in Array: 15\n"
          ]
        }
      ],
      "source": [
        "ones =np.ones((3,5),dtype = int)\n",
        "print(\"Ones Array: \\n{}\".format(ones))\n",
        "print(\"\\nDimesion of array: {}\".format((ones.ndim)))\n",
        "print(\"\\nShape of array: {}\".format((ones.shape)))\n",
        "print(\"\\nDatatype of array's Element: {}\".format((ones.dtype)))\n",
        "print(\"\\nTypes of array: {}\".format(type(ones)))\n",
        "print(\"\\nElements no in Array: {}\".format((ones.size)))"
      ]
    },
    {
      "cell_type": "code",
      "execution_count": 25,
      "metadata": {
        "colab": {
          "base_uri": "https://localhost:8080/"
        },
        "id": "k6hLpW2sWltr",
        "outputId": "10bd377c-9a61-4c6b-913a-c3214d2d7c41"
      },
      "outputs": [
        {
          "name": "stdout",
          "output_type": "stream",
          "text": [
            "Ones Array: \n",
            "[[0. 0. 0. 0. 0. 0. 0.]\n",
            " [0. 0. 0. 0. 0. 0. 0.]\n",
            " [0. 0. 0. 0. 0. 0. 0.]\n",
            " [0. 0. 0. 0. 0. 0. 0.]\n",
            " [0. 0. 0. 0. 0. 0. 0.]\n",
            " [0. 0. 0. 0. 0. 0. 0.]]\n",
            "\n",
            "Dimesion of array: 2\n",
            "\n",
            "Shape of array: (6, 7)\n",
            "\n",
            "Datatype of array's Element: float64\n",
            "\n",
            "Types of array: <class 'numpy.ndarray'>\n",
            "\n",
            "Elements no in Array: 42\n"
          ]
        }
      ],
      "source": [
        "ones = np.zeros((6,7),dtype = float)\n",
        "print(\"Ones Array: \\n{}\".format(ones))\n",
        "print(\"\\nDimesion of array: {}\".format((ones.ndim)))\n",
        "print(\"\\nShape of array: {}\".format((ones.shape)))\n",
        "print(\"\\nDatatype of array's Element: {}\".format((ones.dtype)))\n",
        "print(\"\\nTypes of array: {}\".format(type(ones)))\n",
        "print(\"\\nElements no in Array: {}\".format((ones.size)))"
      ]
    },
    {
      "cell_type": "code",
      "execution_count": null,
      "metadata": {
        "id": "TrMPTuesXOnl"
      },
      "outputs": [],
      "source": []
    }
  ],
  "metadata": {
    "colab": {
      "provenance": []
    },
    "kernelspec": {
      "display_name": "Python 3",
      "name": "python3"
    },
    "language_info": {
      "name": "python",
      "version": "3.11.7"
    }
  },
  "nbformat": 4,
  "nbformat_minor": 0
}
