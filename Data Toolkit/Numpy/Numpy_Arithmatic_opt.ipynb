{
  "nbformat": 4,
  "nbformat_minor": 0,
  "metadata": {
    "colab": {
      "provenance": []
    },
    "kernelspec": {
      "name": "python3",
      "display_name": "Python 3"
    },
    "language_info": {
      "name": "python"
    }
  },
  "cells": [
    {
      "cell_type": "code",
      "execution_count": 1,
      "metadata": {
        "id": "-rW4Pv0xP5a4"
      },
      "outputs": [],
      "source": [
        "import numpy as np"
      ]
    },
    {
      "cell_type": "code",
      "source": [
        "arr = np.array([10,21,23,45])\n",
        "print(arr)"
      ],
      "metadata": {
        "colab": {
          "base_uri": "https://localhost:8080/"
        },
        "id": "eeqm0X-JQA8B",
        "outputId": "d9a52bc0-5a65-48ba-bfc9-f27e757f720e"
      },
      "execution_count": 12,
      "outputs": [
        {
          "output_type": "stream",
          "name": "stdout",
          "text": [
            "[10 21 23 45]\n"
          ]
        }
      ]
    },
    {
      "cell_type": "code",
      "source": [
        "arr+=1\n",
        "print(arr)"
      ],
      "metadata": {
        "colab": {
          "base_uri": "https://localhost:8080/"
        },
        "id": "P1l0EntdQFWs",
        "outputId": "cd42af5f-cd53-4ae2-e409-5dcf19fcbd90"
      },
      "execution_count": 5,
      "outputs": [
        {
          "output_type": "stream",
          "name": "stdout",
          "text": [
            "[11 22 24 46]\n"
          ]
        }
      ]
    },
    {
      "cell_type": "code",
      "source": [
        "arr-=1\n",
        "print(arr)"
      ],
      "metadata": {
        "colab": {
          "base_uri": "https://localhost:8080/"
        },
        "id": "ATswdMqJQMbl",
        "outputId": "f5cbf52d-d283-4b64-ce74-2f665f0acd5f"
      },
      "execution_count": 7,
      "outputs": [
        {
          "output_type": "stream",
          "name": "stdout",
          "text": [
            "[ 9 20 22 44]\n"
          ]
        }
      ]
    },
    {
      "cell_type": "code",
      "source": [
        "arr=arr*2\n",
        "print(arr)"
      ],
      "metadata": {
        "colab": {
          "base_uri": "https://localhost:8080/"
        },
        "id": "cb6O1CF7QQMh",
        "outputId": "58619349-106a-4cc7-cb55-523de7a2d97e"
      },
      "execution_count": 13,
      "outputs": [
        {
          "output_type": "stream",
          "name": "stdout",
          "text": [
            "[20 42 46 90]\n"
          ]
        }
      ]
    },
    {
      "cell_type": "code",
      "source": [
        "arr = arr%3\n",
        "print(arr)"
      ],
      "metadata": {
        "colab": {
          "base_uri": "https://localhost:8080/"
        },
        "id": "QAoHkuSdQbM_",
        "outputId": "26ca563c-be83-4917-ff43-b14aec5cb08a"
      },
      "execution_count": 14,
      "outputs": [
        {
          "output_type": "stream",
          "name": "stdout",
          "text": [
            "[2 0 1 0]\n"
          ]
        }
      ]
    },
    {
      "cell_type": "code",
      "source": [
        "arr = arr**3\n",
        "print(arr)"
      ],
      "metadata": {
        "colab": {
          "base_uri": "https://localhost:8080/"
        },
        "id": "dKJNZHzDQkJ7",
        "outputId": "8969f5a2-4bec-4e2a-e7b0-e41bd63b2d72"
      },
      "execution_count": 15,
      "outputs": [
        {
          "output_type": "stream",
          "name": "stdout",
          "text": [
            "[8 0 1 0]\n"
          ]
        }
      ]
    },
    {
      "cell_type": "code",
      "source": [
        "arr = arr/2\n",
        "print(arr)"
      ],
      "metadata": {
        "colab": {
          "base_uri": "https://localhost:8080/"
        },
        "id": "eMqKxlqCQwew",
        "outputId": "d0381e36-7427-4bf9-ad70-c34f6677e836"
      },
      "execution_count": 16,
      "outputs": [
        {
          "output_type": "stream",
          "name": "stdout",
          "text": [
            "[4.  0.  0.5 0. ]\n"
          ]
        }
      ]
    },
    {
      "cell_type": "code",
      "source": [
        "print(arr.max())"
      ],
      "metadata": {
        "colab": {
          "base_uri": "https://localhost:8080/"
        },
        "id": "sl-WDvfdQ3Zn",
        "outputId": "79d6730c-42d1-43ac-99b8-ba8035aa6112"
      },
      "execution_count": 18,
      "outputs": [
        {
          "output_type": "stream",
          "name": "stdout",
          "text": [
            "4.0\n"
          ]
        }
      ]
    },
    {
      "cell_type": "code",
      "source": [
        "print(arr.min())"
      ],
      "metadata": {
        "colab": {
          "base_uri": "https://localhost:8080/"
        },
        "id": "-Yn7zroXRRrD",
        "outputId": "64bfa303-2e90-4db3-dd8b-361402d91b49"
      },
      "execution_count": 19,
      "outputs": [
        {
          "output_type": "stream",
          "name": "stdout",
          "text": [
            "0.0\n"
          ]
        }
      ]
    },
    {
      "cell_type": "code",
      "source": [
        "arr = np.array([[10,20,30],\n",
        "               [20,30,40],\n",
        "               [50,60,70]])\n",
        "print(arr)"
      ],
      "metadata": {
        "colab": {
          "base_uri": "https://localhost:8080/"
        },
        "id": "g7JkCUAdRVxI",
        "outputId": "3eab91fa-5058-4288-b214-a90453f3e6c4"
      },
      "execution_count": 21,
      "outputs": [
        {
          "output_type": "stream",
          "name": "stdout",
          "text": [
            "[[10 20 30]\n",
            " [20 30 40]\n",
            " [50 60 70]]\n"
          ]
        }
      ]
    },
    {
      "cell_type": "code",
      "source": [
        "res = arr.max(axis = 0)\n",
        "print(res)\n",
        "for i in range(len(res)):\n",
        "  print('Maximum in {} row: {}'.format(i,res[i]))"
      ],
      "metadata": {
        "colab": {
          "base_uri": "https://localhost:8080/"
        },
        "id": "L3U-c34lRmUi",
        "outputId": "1d3fdf11-df54-48c1-8ee3-d669c9ee63d5"
      },
      "execution_count": 28,
      "outputs": [
        {
          "output_type": "stream",
          "name": "stdout",
          "text": [
            "[50 60 70]\n",
            "Maximum in 0 row: 50\n",
            "Maximum in 1 row: 60\n",
            "Maximum in 2 row: 70\n"
          ]
        }
      ]
    },
    {
      "cell_type": "code",
      "source": [
        "res = arr.max(axis = 1)\n",
        "print(res)\n",
        "for i in range(len(res)):\n",
        "  print('Maximum in {} Coulumn: {}'.format(i,res[i]))"
      ],
      "metadata": {
        "colab": {
          "base_uri": "https://localhost:8080/"
        },
        "id": "NVtuU0RfR0MM",
        "outputId": "4b839a54-fb1b-4877-f92d-219a854abb4c"
      },
      "execution_count": 29,
      "outputs": [
        {
          "output_type": "stream",
          "name": "stdout",
          "text": [
            "[30 40 70]\n",
            "Maximum in 0 Coulumn: 30\n",
            "Maximum in 1 Coulumn: 40\n",
            "Maximum in 2 Coulumn: 70\n"
          ]
        }
      ]
    },
    {
      "cell_type": "code",
      "source": [
        "res = arr.min(axis = 0)\n",
        "for i in range(len(res)):\n",
        "  print('Minimum in {} row: {}'.format(i,res[i]))"
      ],
      "metadata": {
        "colab": {
          "base_uri": "https://localhost:8080/"
        },
        "id": "dM0av4GjTMmP",
        "outputId": "8a3fa555-09e7-4aa6-c27a-39b6f2110d79"
      },
      "execution_count": 31,
      "outputs": [
        {
          "output_type": "stream",
          "name": "stdout",
          "text": [
            "Minimum in 0 row: 10\n",
            "Minimum in 1 row: 20\n",
            "Minimum in 2 row: 30\n"
          ]
        }
      ]
    },
    {
      "cell_type": "code",
      "source": [
        "res = arr.min(axis = 1)\n",
        "for i in range(len(res)):\n",
        "  print('Minimum in {} coulumn: {}'.format(i,res[i]))"
      ],
      "metadata": {
        "colab": {
          "base_uri": "https://localhost:8080/"
        },
        "id": "DprExPO6R6jO",
        "outputId": "7b53d36c-6b86-44dc-9e78-de7cc3ce9e66"
      },
      "execution_count": 30,
      "outputs": [
        {
          "output_type": "stream",
          "name": "stdout",
          "text": [
            "Minimum in 0 coulumn: 10\n",
            "Minimum in 1 coulumn: 20\n",
            "Minimum in 2 coulumn: 50\n"
          ]
        }
      ]
    },
    {
      "cell_type": "code",
      "source": [
        "print('Sum  of matrix: {} '.format(arr.sum()))"
      ],
      "metadata": {
        "colab": {
          "base_uri": "https://localhost:8080/"
        },
        "id": "x6MieJXTSP3A",
        "outputId": "a5c6ead1-cb6b-48a2-8a32-abc662d612a7"
      },
      "execution_count": 32,
      "outputs": [
        {
          "output_type": "stream",
          "name": "stdout",
          "text": [
            "Sum  of matrix: 330 \n"
          ]
        }
      ]
    },
    {
      "cell_type": "code",
      "source": [],
      "metadata": {
        "id": "_yA5af1HTccu"
      },
      "execution_count": null,
      "outputs": []
    }
  ]
}