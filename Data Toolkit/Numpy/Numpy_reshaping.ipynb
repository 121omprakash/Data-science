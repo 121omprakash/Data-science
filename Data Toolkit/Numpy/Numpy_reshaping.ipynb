{
  "nbformat": 4,
  "nbformat_minor": 0,
  "metadata": {
    "colab": {
      "provenance": []
    },
    "kernelspec": {
      "name": "python3",
      "display_name": "Python 3"
    },
    "language_info": {
      "name": "python"
    }
  },
  "cells": [
    {
      "cell_type": "code",
      "execution_count": 1,
      "metadata": {
        "id": "8O-qZoZfNlMn"
      },
      "outputs": [],
      "source": [
        "arr = [10,15,20,30]"
      ]
    },
    {
      "cell_type": "code",
      "source": [
        "import numpy as np"
      ],
      "metadata": {
        "id": "BN4MgXl_N3X_"
      },
      "execution_count": 2,
      "outputs": []
    },
    {
      "cell_type": "code",
      "source": [
        "arra = np.array(arr)"
      ],
      "metadata": {
        "id": "Oyb85A-nN52z"
      },
      "execution_count": 3,
      "outputs": []
    },
    {
      "cell_type": "code",
      "source": [
        "print(arra)"
      ],
      "metadata": {
        "colab": {
          "base_uri": "https://localhost:8080/",
          "height": 0
        },
        "id": "3nbpLtYqN9c3",
        "outputId": "719e4f45-7e33-4956-d7da-ea02ebde37df"
      },
      "execution_count": 4,
      "outputs": [
        {
          "output_type": "stream",
          "name": "stdout",
          "text": [
            "[10 15 20 30]\n"
          ]
        }
      ]
    },
    {
      "cell_type": "code",
      "source": [
        "res = np.random.random((3,3))\n",
        "print(res)"
      ],
      "metadata": {
        "colab": {
          "base_uri": "https://localhost:8080/",
          "height": 0
        },
        "id": "Wv4K9oyBN-iQ",
        "outputId": "8608d35e-d1ab-4840-dff2-e7cc30c2d3ca"
      },
      "execution_count": 8,
      "outputs": [
        {
          "output_type": "stream",
          "name": "stdout",
          "text": [
            "[[0.70501673 0.52776091 0.15453996]\n",
            " [0.64254922 0.18472348 0.36787047]\n",
            " [0.90705253 0.25725934 0.45721483]]\n"
          ]
        }
      ]
    },
    {
      "cell_type": "code",
      "source": [
        "print(np.random.random())"
      ],
      "metadata": {
        "colab": {
          "base_uri": "https://localhost:8080/",
          "height": 0
        },
        "id": "d78SzNOMOF-x",
        "outputId": "cd9a2b97-57ef-40b1-9850-47cb10fb2b35"
      },
      "execution_count": 13,
      "outputs": [
        {
          "output_type": "stream",
          "name": "stdout",
          "text": [
            "0.8883234543010043\n"
          ]
        }
      ]
    },
    {
      "cell_type": "code",
      "source": [
        "res1 = np.arange(10,22,2)\n",
        "print(res1)"
      ],
      "metadata": {
        "colab": {
          "base_uri": "https://localhost:8080/",
          "height": 0
        },
        "id": "0IPYrqpfORMB",
        "outputId": "48ddd3a7-4889-484a-a99b-addf93160b7a"
      },
      "execution_count": 17,
      "outputs": [
        {
          "output_type": "stream",
          "name": "stdout",
          "text": [
            "[10 12 14 16 18 20]\n"
          ]
        }
      ]
    },
    {
      "cell_type": "code",
      "source": [
        "res1 =np.linspace(10,20,25)\n",
        "print(res1)"
      ],
      "metadata": {
        "colab": {
          "base_uri": "https://localhost:8080/",
          "height": 0
        },
        "id": "1vcXcRhhOglq",
        "outputId": "1ecb564d-60d8-48b9-cd25-773fa75093f0"
      },
      "execution_count": 16,
      "outputs": [
        {
          "output_type": "stream",
          "name": "stdout",
          "text": [
            "[10.         10.41666667 10.83333333 11.25       11.66666667 12.08333333\n",
            " 12.5        12.91666667 13.33333333 13.75       14.16666667 14.58333333\n",
            " 15.         15.41666667 15.83333333 16.25       16.66666667 17.08333333\n",
            " 17.5        17.91666667 18.33333333 18.75       19.16666667 19.58333333\n",
            " 20.        ]\n"
          ]
        }
      ]
    },
    {
      "cell_type": "code",
      "source": [
        "res = np.reshape(res1,(2,3))\n",
        "\n",
        "print(res)"
      ],
      "metadata": {
        "colab": {
          "base_uri": "https://localhost:8080/",
          "height": 0
        },
        "id": "k6a3xJI_OyZp",
        "outputId": "e999d76e-5582-4117-c4d6-6bc3401325a9"
      },
      "execution_count": 20,
      "outputs": [
        {
          "output_type": "stream",
          "name": "stdout",
          "text": [
            "[[10 12 14]\n",
            " [16 18 20]]\n"
          ]
        }
      ]
    },
    {
      "cell_type": "code",
      "source": [
        "res = res.reshape(3,2)\n",
        "print(res)"
      ],
      "metadata": {
        "colab": {
          "base_uri": "https://localhost:8080/",
          "height": 0
        },
        "id": "NJT5KOfVPGrw",
        "outputId": "c8c68f18-40b9-461a-ec6e-4db4a272131d"
      },
      "execution_count": 23,
      "outputs": [
        {
          "output_type": "stream",
          "name": "stdout",
          "text": [
            "[[10 12]\n",
            " [14 16]\n",
            " [18 20]]\n"
          ]
        }
      ]
    },
    {
      "cell_type": "code",
      "source": [
        "print(res)\n",
        "res2 = res.flatten()\n",
        "print(res2)"
      ],
      "metadata": {
        "colab": {
          "base_uri": "https://localhost:8080/",
          "height": 0
        },
        "id": "HAQIchngPTdU",
        "outputId": "0da151a0-b3a7-4623-de70-7f1f23a77453"
      },
      "execution_count": 25,
      "outputs": [
        {
          "output_type": "stream",
          "name": "stdout",
          "text": [
            "[[10 12]\n",
            " [14 16]\n",
            " [18 20]]\n",
            "[10 12 14 16 18 20]\n"
          ]
        }
      ]
    },
    {
      "cell_type": "code",
      "source": [],
      "metadata": {
        "id": "z4E0ftMrPiGR"
      },
      "execution_count": null,
      "outputs": []
    }
  ]
}