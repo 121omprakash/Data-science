{
 "cells": [
  {
   "cell_type": "code",
   "execution_count": 2,
   "metadata": {},
   "outputs": [],
   "source": [
    "# importing important library\n",
    "import json\n",
    "import time\n"
   ]
  },
  {
   "cell_type": "code",
   "execution_count": 3,
   "metadata": {},
   "outputs": [],
   "source": [
    "#loading data from Json\n",
    "file = open('/home/om/Desktop/Data science/Data Toolkit/Inventory Management/Inventory_record.json','r')\n",
    "data = file.read()\n",
    "record =json.loads(data)\n",
    "file.close()\n"
   ]
  },
  {
   "cell_type": "code",
   "execution_count": null,
   "metadata": {},
   "outputs": [],
   "source": [
    "#menu\n",
    "print('Menu'.center(45,'-'))\n",
    "key = record.keys()\n",
    "print('Pro_Id'.center(10,' '),'Name'.ljust(20,' '),'Price(RS)'.center(20,' '),'\\n')\n",
    "for i in key:\n",
    "    print(str(i).center(10,' '),record[i]['Name'].ljust(20,' '),record[i]['Price'].center(20,' '))\n",
    "print('-'*45)\n",
    "usr_detail =' '\n",
    "usr_name = input('Enter your name: ')\n",
    "usr_email = input('Enter your emai: ')\n",
    "usr_phone = input('Enter the phone number: ')\n",
    "Pro_Id = str((input('Enter the product id: ')))\n",
    "quantity= int(input('Enter the quantity of the product: '))\n"
   ]
  },
  {
   "cell_type": "code",
   "execution_count": null,
   "metadata": {},
   "outputs": [],
   "source": [
    "#checking for product availablity\n",
    "if Pro_Id in record.keys():\n",
    "    if quantity <= int(record[Pro_Id]['Qn']):\n",
    "        #printing bill\n",
    "        print('_'*50)\n",
    "        print('Bill'.center(50,'-'))\n",
    "        print(usr_name.center(50,' '))\n",
    "        print('-'*50)\n",
    "        print('Pro_Id'.center(10,' '),'Name'.ljust(10,' '),'Price(RS)'.center(10,' '),'Quantity'.center(10,' '),'\\n')\n",
    "        print(str(Pro_Id).center(10,' '),record[Pro_Id]['Name'].ljust(10,' '),record[Pro_Id]['Price'].center(10,' '),str(quantity).center(10,' '))\n",
    "        amount = int(record[Pro_Id]['Price'])*quantity\n",
    "        print('\\n\\n')\n",
    "        if  amount>= 500:  \n",
    "            per = amount/20\n",
    "            total = amount - per\n",
    "            print('Total Amount(RS): {}'.format(amount))\n",
    "            print('Discount(RS): {}'.format(per))\n",
    "            print('-'*50)\n",
    "            print('Net Amount: {}'.format(total))\n",
    "            record[Pro_Id]['Qn'] = record[Pro_Id]['Qn'] -quantity\n",
    "\n",
    "            usr_detail=usr_name+','+usr_email+','+usr_phone+','+str(Pro_Id)+','+str(quantity)+','+str(amount)+','+str(per)+','+str(total)+','+str(time.ctime())+'\\n'\n",
    "        elif amount >= 1000:\n",
    "            per = amount/10\n",
    "            total = amount-per\n",
    "            print('Total Amount(RS): {}'.format(amount))\n",
    "            print('Discount(RS): {}'.format(per))\n",
    "            print('-'*50)\n",
    "            print('Net Amount: {}'.format(total))\n",
    "            record[Pro_Id]['Qn'] = record[Pro_Id]['Qn'] -quantity\n",
    "\n",
    "            usr_detail=usr_name+','+usr_email+','+usr_phone+','+str(Pro_Id)+','+str(quantity)+','+str(amount)+','+str(per)+','+str(total)+','+str(time.ctime())+'\\n'\n",
    "        else:\n",
    "            print('Total Amount(RS): {}'.format(amount))\n",
    "                    #updating the value\n",
    "            record[Pro_Id]['Qn'] = record[Pro_Id]['Qn'] -quantity\n",
    "            usr_detail=usr_name+','+usr_email+','+usr_phone+','+str(Pro_Id)+','+str(quantity)+','+str(amount)+','+str(0)+','+str(amount)+','+str(time.ctime())+'\\n'\n",
    "    else:\n",
    "        print('We have only {} quantity of {}'.format(record[Pro_Id]['Qn'],record[Pro_Id]['Name']))\n",
    "        response = input('Enter (Y/N) for purchase:')\n",
    "        if response.lower() == 'y':\n",
    "\n",
    "            print('_'*50)\n",
    "            print('Bill'.center(50,'-'))\n",
    "            print(usr_name.center(50,' '))\n",
    "\n",
    "            print('Pro_Id'.center(10,' '),'Name'.ljust(20,' '),'Price(RS)'.center(20,' '),'Quantity'.center(20,' '),'\\n')\n",
    "            print(str(Pro_Id).center(10,' '),record[Pro_Id]['Name'].ljust(20,' '),record[Pro_Id]['Price'].center(20,' '),str(record[Pro_Id]['Qn']).center(20,' '))\n",
    "            print('\\n\\n')\n",
    "            amount = int(record[Pro_Id]['Price'])*int(record[Pro_Id]['Qn'])\n",
    "            if  amount>= 500:  \n",
    "                per = amount/20\n",
    "                total = amount - per\n",
    "                print('Total Amount(RS): {}'.format(amount))\n",
    "                print('Discount(RS): {}'.format(per))\n",
    "                print('-'*50)\n",
    "                print('Net Amount: {}'.format(total))\n",
    "\n",
    "                record[Pro_Id]['Qn'] = record[Pro_Id]['Qn'] -record[Pro_Id]['Qn']\n",
    "                usr_detail=usr_name+','+usr_email+','+usr_phone+','+str(Pro_Id)+','+str(record[Pro_Id]['Qn'])+','+str(amount)+','+str(per)+','+str(total)+','+str(time.ctime())+'\\n'\n",
    "\n",
    "            elif amount >= 1000:\n",
    "                per = amount/10\n",
    "                total = amount-per\n",
    "                print('Total Amount(RS): {}'.format(amount))\n",
    "                print('Discount(RS): {}'.format(per))\n",
    "                print('-'*50)\n",
    "                print('Net Amount: {}'.format(total))\n",
    "\n",
    "                record[Pro_Id]['Qn'] = record[Pro_Id]['Qn'] -record[Pro_Id]['Qn']\n",
    "                usr_detail=usr_name+','+usr_email+','+usr_phone+','+str(Pro_Id)+','+str(record[Pro_Id]['Qn'])+','+str(amount)+','+str(per)+','+str(total)+','+str(time.ctime())+'\\n'\n",
    "            else:\n",
    "                print('Total Amount(RS): {}'.format(amount))\n",
    "\n",
    "\n",
    "            #updating the value\n",
    "            record[Pro_Id]['Qn'] = record[Pro_Id]['Qn'] -record[Pro_Id]['Qn']\n",
    "            usr_detail=usr_name+','+usr_email+','+usr_phone+','+str(Pro_Id)+','+str(record[Pro_Id]['Qn'])+','+str(amount)+','+str(0)+','+str(amount)+','+str(time.ctime())+'\\n'\n",
    "else:\n",
    "    print('Sorry we do not have that product')\n"
   ]
  },
  {
   "cell_type": "code",
   "execution_count": null,
   "metadata": {},
   "outputs": [],
   "source": [
    "\n",
    "#updating sale\n",
    "file = open('/home/om/Desktop/Data science/Data Toolkit/Inventory Management/Sales.csv','a')\n",
    "file.write(usr_detail)\n",
    "file.close()\n"
   ]
  },
  {
   "cell_type": "code",
   "execution_count": null,
   "metadata": {},
   "outputs": [],
   "source": []
  },
  {
   "cell_type": "code",
   "execution_count": null,
   "metadata": {},
   "outputs": [],
   "source": []
  }
 ],
 "metadata": {
  "kernelspec": {
   "display_name": "Python 3 (ipykernel)",
   "language": "python",
   "name": "python3"
  },
  "language_info": {
   "codemirror_mode": {
    "name": "ipython",
    "version": 3
   },
   "file_extension": ".py",
   "mimetype": "text/x-python",
   "name": "python",
   "nbconvert_exporter": "python",
   "pygments_lexer": "ipython3",
   "version": "3.10.12"
  }
 },
 "nbformat": 4,
 "nbformat_minor": 2
}
